{
 "cells": [
  {
   "cell_type": "markdown",
   "metadata": {},
   "source": [
    "# Convnet Model and Training\n",
    "\n",
    "This aim of notebook is to define the siamese model that will be used for the Humpback Whale challenge. It will also run the model to trainin it agains our previously generated training and validation dataset and also create the results agains a test dataset."
   ]
  },
  {
   "cell_type": "markdown",
   "metadata": {},
   "source": [
    "## 0. Module Imports "
   ]
  },
  {
   "cell_type": "code",
   "execution_count": 184,
   "metadata": {},
   "outputs": [],
   "source": [
    "import numpy as np\n",
    "from __future__ import print_function\n",
    "import numpy as np\n",
    "import tensorflow as tf\n",
    "from six.moves import cPickle as pickle\n",
    "from six.moves import range\n",
    "import matplotlib.pyplot as plt"
   ]
  },
  {
   "cell_type": "markdown",
   "metadata": {},
   "source": [
    "## 1. Load Training, Validation and Test datasets"
   ]
  },
  {
   "cell_type": "code",
   "execution_count": 185,
   "metadata": {},
   "outputs": [
    {
     "name": "stdout",
     "output_type": "stream",
     "text": [
      "Training set (31218, 44, 100) (31218, 44, 100) (31218,)\n",
      "Validation set (5510, 44, 100) (5510, 44, 100) (5510,)\n"
     ]
    }
   ],
   "source": [
    "pickle_file = '../data/Siamese_dataset.pickle'\n",
    "\n",
    "with open(pickle_file, 'rb') as f:\n",
    "    save = pickle.load(f)\n",
    "    train_X1_dataset = save['train_X1_dataset']\n",
    "    train_X2_dataset = save['train_X2_dataset']\n",
    "    train_labels = save['train_labels']\n",
    "    valid_X1_dataset = save['valid_X1_dataset']\n",
    "    valid_X2_dataset = save['valid_X2_dataset']\n",
    "    valid_labels = save['valid_labels']\n",
    "    del save  # hint to help gc free up memory\n",
    "    print('Training set', train_X1_dataset.shape, train_X2_dataset.shape, train_labels.shape)\n",
    "    print('Validation set', valid_X1_dataset.shape, valid_X2_dataset.shape, valid_labels.shape)"
   ]
  },
  {
   "cell_type": "markdown",
   "metadata": {},
   "source": [
    "##  2. Declaration of Global Constants\n",
    "Now we declare all the global constants in hee in orde to have them centralized.\n",
    "This way we can easyly tune our model."
   ]
  },
  {
   "cell_type": "code",
   "execution_count": 186,
   "metadata": {},
   "outputs": [],
   "source": [
    "## Image parameters\n",
    "NUM_CHANNELS = 1\n",
    "IMAGE_HEIGHT = 44\n",
    "IMAGE_WIDHT = 100\n",
    "\n",
    "#Convnet parameters\n",
    "BETA = 0.005\n",
    "PATCH_1 = 7\n",
    "PATCH_2 = 6\n",
    "DEPTH_1 = 15\n",
    "DEPTH_2 = 45\n",
    "NUM_HIDEN = 1024\n",
    "NUM_LABELS = 1\n",
    "MARGIN = 5.0\n",
    "\n",
    "\n",
    "#Training parameters\n",
    "BATCH_SIZE = 128\n",
    "NUM_STEPS = 1501"
   ]
  },
  {
   "cell_type": "markdown",
   "metadata": {},
   "source": [
    "## 3. Reformat datasets into a TensorFlow-friendly shape:\n",
    "\n",
    "- convolutions need the image data formatted as a cube (width by height by #channels)\n",
    "- labels as float 1-hot encodings.\n",
    "\n"
   ]
  },
  {
   "cell_type": "code",
   "execution_count": 187,
   "metadata": {},
   "outputs": [
    {
     "name": "stdout",
     "output_type": "stream",
     "text": [
      "Training set (31218, 44, 100, 1) (31218, 44, 100, 1) (31218, 1)\n",
      "Validation set (5510, 44, 100, 1) (5510, 44, 100, 1) (5510, 1)\n"
     ]
    }
   ],
   "source": [
    "num_labels = 1\n",
    "\n",
    "def reformat(dataset1, dataset2, labels):\n",
    "  dataset1 = dataset1.reshape(\n",
    "    (-1, IMAGE_HEIGHT, IMAGE_WIDHT, NUM_CHANNELS)).astype(np.float32)\n",
    "  dataset2 = dataset2.reshape(\n",
    "    (-1, IMAGE_HEIGHT, IMAGE_WIDHT, NUM_CHANNELS)).astype(np.float32)\n",
    "  labels = (np.arange(num_labels) == labels[:,None]).astype(np.float32)\n",
    "  return dataset1, dataset2, labels\n",
    "train_X1_dataset, train_X2_dataset, train_labels = reformat(train_X1_dataset, train_X2_dataset, train_labels)\n",
    "valid_X1_dataset, valid_X2_dataset, valid_labels = reformat(valid_X1_dataset, valid_X2_dataset, valid_labels)\n",
    "print('Training set', train_X1_dataset.shape, train_X2_dataset.shape, train_labels.shape)\n",
    "print('Validation set', valid_X1_dataset.shape, valid_X2_dataset.shape, valid_labels.shape)"
   ]
  },
  {
   "cell_type": "markdown",
   "metadata": {},
   "source": [
    "## 4. Definition of auxiliar functions"
   ]
  },
  {
   "cell_type": "markdown",
   "metadata": {},
   "source": [
    "### 4.1. Accuracy computation"
   ]
  },
  {
   "cell_type": "code",
   "execution_count": 192,
   "metadata": {},
   "outputs": [],
   "source": [
    "def accuracy(predictions, labels):\n",
    "    aux = predictions < MARGIN\n",
    "    equal = np.equal(aux[:] , labels[:, 0])\n",
    "    great = np.greater(aux[:] , labels[:, 0])\n",
    "    less = np.less(aux[:] , labels[:, 0])\n",
    "    acc = (100.0 * np.sum(equal.astype(np.float32))\n",
    "          / predictions.shape[0])\n",
    "    false_pos = np.sum(great.astype(np.float32))\n",
    "    false_neg = np.sum(less.astype(np.float32))\n",
    "    return acc, false_pos, false_neg"
   ]
  },
  {
   "cell_type": "markdown",
   "metadata": {},
   "source": [
    "## 5. Network declaration\n",
    "We will use tensorflow"
   ]
  },
  {
   "cell_type": "code",
   "execution_count": 203,
   "metadata": {},
   "outputs": [
    {
     "name": "stdout",
     "output_type": "stream",
     "text": [
      "(128,)\n",
      "(5510,)\n"
     ]
    }
   ],
   "source": [
    "\n",
    "siamese_model = tf.Graph()\n",
    "\n",
    "with siamese_model.as_default():\n",
    "\n",
    "  # Input data.\n",
    "    tf_train_X1_dataset = tf.placeholder(\\\n",
    "          tf.float32, shape=(BATCH_SIZE, IMAGE_HEIGHT, IMAGE_WIDHT, NUM_CHANNELS))\n",
    "    tf_train_X2_dataset = tf.placeholder(\\\n",
    "          tf.float32, shape=(BATCH_SIZE, IMAGE_HEIGHT, IMAGE_WIDHT, NUM_CHANNELS))\n",
    "    tf_train_labels = tf.placeholder(tf.float32, shape=(BATCH_SIZE, NUM_LABELS))\n",
    "    tf_valid_X1_dataset = tf.constant(valid_X1_dataset)\n",
    "    tf_valid_X2_dataset = tf.constant(valid_X2_dataset)\n",
    "    #tf_test_dataset = tf.constant(test_dataset)\n",
    "  \n",
    "    # Variables.\n",
    "    weights = {\n",
    "      'layer1': tf.Variable(tf.truncated_normal(\\\n",
    "              [PATCH_1, PATCH_1, NUM_CHANNELS, DEPTH_1], stddev=0.1)),\n",
    "      'layer2': tf.Variable(tf.truncated_normal(\\\n",
    "              [PATCH_2, PATCH_2, DEPTH_1, DEPTH_2], stddev=0.1)),\n",
    "      'layer3': tf.Variable(tf.truncated_normal(\\\n",
    "              [IMAGE_HEIGHT // 4 * IMAGE_WIDHT // 4 * DEPTH_2, NUM_HIDEN], stddev=0.1)),\n",
    "      'layer4': tf.Variable(tf.truncated_normal(\\\n",
    "              [NUM_HIDEN, 10], stddev=0.1))\n",
    "      }\n",
    "    biases = {\n",
    "        'layer1' : tf.Variable(tf.zeros([DEPTH_1])),\n",
    "        'layer2' : tf.Variable(tf.constant(1.0, shape=[DEPTH_2])),\n",
    "        'layer3' : tf.Variable(tf.constant(1.0, shape=[NUM_HIDEN])),\n",
    "        'layer4' : tf.Variable(tf.constant(1.0, shape=[1]))\n",
    "        }\n",
    "  \n",
    "  # Model.\n",
    "    def model(data):\n",
    "        conv = tf.nn.conv2d(data, weights['layer1'], [1, 2, 2, 1], padding='SAME')\n",
    "        hidden = tf.nn.relu(conv + biases['layer1'])\n",
    "        conv = tf.nn.conv2d(hidden, weights['layer2'], [1, 2, 2, 1], padding='SAME')\n",
    "        hidden = tf.nn.relu(conv + biases['layer2'])\n",
    "        shape = hidden.get_shape().as_list()\n",
    "        reshape = tf.reshape(hidden, [shape[0], shape[1] * shape[2] * shape[3]])\n",
    "        hidden = tf.nn.relu(tf.matmul(reshape, weights['layer3']) + biases['layer3'])\n",
    "        return tf.matmul(hidden, weights['layer4']) + biases['layer4']\n",
    "    \n",
    "    \n",
    "  # Training computation.\n",
    "    with tf.variable_scope(\"siamese\") as scope:\n",
    "        logits1 = model(tf_train_X1_dataset)\n",
    "        scope.reuse_variables()\n",
    "        logits2 = model(tf_train_X2_dataset)\n",
    "        \n",
    "    with tf.variable_scope(\"siamese_val\") as scope:\n",
    "        val_logits1 = model(tf_valid_X1_dataset)\n",
    "        scope.reuse_variables()\n",
    "        val_logits2 = model(tf_valid_X2_dataset)\n",
    "        \n",
    "    def loss(y):\n",
    "        labels_t = y\n",
    "        labels_f = tf.subtract(1.0, y, name=\"1-yi\")          # labels_ = !labels;\n",
    "        eucd2 = tf.pow(tf.subtract(logits1, logits2), 2)\n",
    "        eucd2 = tf.reduce_sum(eucd2, 1)\n",
    "        eucd = tf.sqrt(eucd2+1e-6, name=\"eucd\")\n",
    "        C = tf.constant(MARGIN, name=\"C\")\n",
    "        # yi*||CNN(p1i)-CNN(p2i)||^2 + (1-yi)*max(0, C-||CNN(p1i)-CNN(p2i)||^2)\n",
    "        pos = tf.multiply(labels_t, eucd2, name=\"yi_x_eucd2\")\n",
    "        # neg = tf.multiply(labels_f, tf.subtract(0.0,eucd2), name=\"yi_x_eucd2\")\n",
    "        # neg = tf.multiply(labels_f, tf.maximum(0.0, tf.subtract(C,eucd2)), name=\"Nyi_x_C-eucd_xx_2\")\n",
    "        neg = tf.multiply(labels_f, tf.pow(tf.maximum(tf.subtract(C, eucd), 0), 2), name=\"Nyi_x_C-eucd_xx_2\")\n",
    "        losses = tf.add(pos, neg, name=\"losses\")\n",
    "        loss = tf.reduce_mean(losses, name=\"loss\")\n",
    "        return loss\n",
    "        \n",
    "    loss = loss(tf_train_labels)\n",
    "    \n",
    "  # Optimizer.\n",
    "    optimizer = tf.train.AdamOptimizer().minimize(loss)\n",
    "  \n",
    "  \n",
    "  # Predictions for the training, validation, and test data.\n",
    "    train_prediction = tf.reduce_sum(tf.pow(tf.subtract(logits1, logits2), 2),1)\n",
    "    print(train_prediction.shape)\n",
    "    valid_prediction = tf.reduce_sum(tf.pow(tf.subtract(val_logits1, val_logits2), 2),1)\n",
    "    print(valid_prediction.shape)\n",
    "    #test_prediction = tf.nn.softmax(model(tf_test_dataset))\n"
   ]
  },
  {
   "cell_type": "markdown",
   "metadata": {},
   "source": [
    "## 6. Model training"
   ]
  },
  {
   "cell_type": "code",
   "execution_count": 204,
   "metadata": {},
   "outputs": [
    {
     "name": "stdout",
     "output_type": "stream",
     "text": [
      "Initialized\n",
      "Minibatch loss at step 0 84.7983093262\n",
      "Minibatch accuracy: 48.4375 false positives: 0.0 false negatives: 66.0\n",
      "Validation accuracy: 46.442831216 false positives: 23.0 false negatives: 2928.0\n",
      "Minibatch loss at step 50 8.81370925903\n",
      "Minibatch accuracy: 35.9375 false positives: 11.0 false negatives: 71.0\n",
      "Validation accuracy: 42.7404718693 false positives: 608.0 false negatives: 2547.0\n",
      "Minibatch loss at step 100 6.88838577271\n",
      "Minibatch accuracy: 35.9375 false positives: 35.0 false negatives: 47.0\n",
      "Validation accuracy: 45.0816696915 false positives: 1068.0 false negatives: 1958.0\n",
      "Minibatch loss at step 150 6.7901134491\n",
      "Minibatch accuracy: 38.28125 false positives: 31.0 false negatives: 48.0\n",
      "Validation accuracy: 44.9183303085 false positives: 1313.0 false negatives: 1722.0\n",
      "Minibatch loss at step 200 6.78271198273\n",
      "Minibatch accuracy: 51.5625 false positives: 27.0 false negatives: 35.0\n",
      "Validation accuracy: 45.335753176 false positives: 1385.0 false negatives: 1627.0\n",
      "Minibatch loss at step 250 6.74287748337\n",
      "Minibatch accuracy: 46.09375 false positives: 37.0 false negatives: 32.0\n",
      "Validation accuracy: 44.5190562613 false positives: 1376.0 false negatives: 1681.0\n",
      "Minibatch loss at step 300 6.66881370544\n",
      "Minibatch accuracy: 39.84375 false positives: 39.0 false negatives: 38.0\n",
      "Validation accuracy: 43.557168784 false positives: 1310.0 false negatives: 1800.0\n",
      "Minibatch loss at step 350 6.62216663361\n",
      "Minibatch accuracy: 44.53125 false positives: 32.0 false negatives: 39.0\n",
      "Validation accuracy: 44.3375680581 false positives: 1332.0 false negatives: 1735.0\n",
      "Minibatch loss at step 400 6.6122469902\n",
      "Minibatch accuracy: 42.96875 false positives: 30.0 false negatives: 43.0\n",
      "Validation accuracy: 43.9382940109 false positives: 1398.0 false negatives: 1691.0\n",
      "Minibatch loss at step 450 6.50329017639\n",
      "Minibatch accuracy: 44.53125 false positives: 33.0 false negatives: 38.0\n",
      "Validation accuracy: 44.7731397459 false positives: 1337.0 false negatives: 1706.0\n",
      "Minibatch loss at step 500 6.63689470291\n",
      "Minibatch accuracy: 43.75 false positives: 38.0 false negatives: 34.0\n",
      "Validation accuracy: 44.1742286751 false positives: 1359.0 false negatives: 1717.0\n",
      "Minibatch loss at step 550 6.64263820648\n",
      "Minibatch accuracy: 43.75 false positives: 36.0 false negatives: 36.0\n",
      "Validation accuracy: 45.6442831216 false positives: 1311.0 false negatives: 1684.0\n",
      "Minibatch loss at step 600 6.54326581955\n",
      "Minibatch accuracy: 42.1875 false positives: 31.0 false negatives: 43.0\n",
      "Validation accuracy: 44.7912885662 false positives: 1339.0 false negatives: 1703.0\n",
      "Minibatch loss at step 650 6.38547611237\n",
      "Minibatch accuracy: 48.4375 false positives: 28.0 false negatives: 38.0\n",
      "Validation accuracy: 44.1560798548 false positives: 1336.0 false negatives: 1741.0\n",
      "Minibatch loss at step 700 6.62001657486\n",
      "Minibatch accuracy: 42.1875 false positives: 34.0 false negatives: 40.0\n",
      "Validation accuracy: 43.2123411978 false positives: 1250.0 false negatives: 1879.0\n",
      "Minibatch loss at step 750 6.36752986908\n",
      "Minibatch accuracy: 43.75 false positives: 28.0 false negatives: 44.0\n",
      "Validation accuracy: 43.2486388385 false positives: 1336.0 false negatives: 1791.0\n",
      "Minibatch loss at step 800 6.28144168854\n",
      "Minibatch accuracy: 46.875 false positives: 31.0 false negatives: 37.0\n",
      "Validation accuracy: 43.8838475499 false positives: 1212.0 false negatives: 1880.0\n",
      "Minibatch loss at step 850 6.15725040436\n",
      "Minibatch accuracy: 43.75 false positives: 37.0 false negatives: 35.0\n",
      "Validation accuracy: 45.4083484574 false positives: 1375.0 false negatives: 1633.0\n",
      "Minibatch loss at step 900 6.52056598663\n",
      "Minibatch accuracy: 53.125 false positives: 21.0 false negatives: 39.0\n",
      "Validation accuracy: 44.2468239564 false positives: 1293.0 false negatives: 1779.0\n",
      "Minibatch loss at step 950 6.35320138931\n",
      "Minibatch accuracy: 35.15625 false positives: 27.0 false negatives: 56.0\n",
      "Validation accuracy: 44.1742286751 false positives: 1237.0 false negatives: 1839.0\n",
      "Minibatch loss at step 1000 6.46527767181\n",
      "Minibatch accuracy: 44.53125 false positives: 31.0 false negatives: 40.0\n",
      "Validation accuracy: 44.2286751361 false positives: 1331.0 false negatives: 1742.0\n",
      "Minibatch loss at step 1050 6.40973758698\n",
      "Minibatch accuracy: 52.34375 false positives: 20.0 false negatives: 41.0\n",
      "Validation accuracy: 43.2849364791 false positives: 1213.0 false negatives: 1912.0\n",
      "Minibatch loss at step 1100 6.48446178436\n",
      "Minibatch accuracy: 45.3125 false positives: 30.0 false negatives: 40.0\n",
      "Validation accuracy: 45.2813067151 false positives: 1408.0 false negatives: 1607.0\n",
      "Minibatch loss at step 1150 6.40216875076\n",
      "Minibatch accuracy: 50.0 false positives: 25.0 false negatives: 39.0\n",
      "Validation accuracy: 43.2849364791 false positives: 1256.0 false negatives: 1869.0\n",
      "Minibatch loss at step 1200 6.40034580231\n",
      "Minibatch accuracy: 57.8125 false positives: 12.0 false negatives: 42.0\n",
      "Validation accuracy: 44.8094373866 false positives: 1253.0 false negatives: 1788.0\n",
      "Minibatch loss at step 1250 6.36654853821\n",
      "Minibatch accuracy: 46.09375 false positives: 29.0 false negatives: 40.0\n",
      "Validation accuracy: 44.0290381125 false positives: 1317.0 false negatives: 1767.0\n",
      "Minibatch loss at step 1300 6.31807422638\n",
      "Minibatch accuracy: 43.75 false positives: 29.0 false negatives: 43.0\n",
      "Validation accuracy: 43.5934664247 false positives: 1191.0 false negatives: 1917.0\n",
      "Minibatch loss at step 1350 6.27923536301\n",
      "Minibatch accuracy: 47.65625 false positives: 32.0 false negatives: 35.0\n",
      "Validation accuracy: 44.2649727768 false positives: 1346.0 false negatives: 1725.0\n",
      "Minibatch loss at step 1400 6.400598526\n",
      "Minibatch accuracy: 43.75 false positives: 22.0 false negatives: 50.0\n",
      "Validation accuracy: 43.6479128857 false positives: 1214.0 false negatives: 1891.0\n",
      "Minibatch loss at step 1450 6.29902076721\n",
      "Minibatch accuracy: 44.53125 false positives: 28.0 false negatives: 43.0\n",
      "Validation accuracy: 44.6823956443 false positives: 1262.0 false negatives: 1786.0\n",
      "Minibatch loss at step 1500 6.39823675156\n",
      "Minibatch accuracy: 46.875 false positives: 25.0 false negatives: 43.0\n",
      "Validation accuracy: 44.1560798548 false positives: 1284.0 false negatives: 1793.0\n"
     ]
    },
    {
     "data": {
      "image/png": "[encoded data removed]",
      "text/plain": [
       "<matplotlib.figure.Figure at 0x7fc430ac1e90>"
      ]
     },
     "metadata": {},
     "output_type": "display_data"
    }
   ],
   "source": [
    "#Plots\n",
    "P_FREQ = 50\n",
    "losses = []\n",
    "accuracies = []\n",
    "rates = []\n",
    "\n",
    "with tf.Session(graph=siamese_model) as session:\n",
    "  tf.global_variables_initializer().run()\n",
    "  print('Initialized')\n",
    "  for step in range(NUM_STEPS):\n",
    "    offset = (step * BATCH_SIZE) % (train_labels.shape[0] - BATCH_SIZE)\n",
    "    batch_data_X1 = train_X1_dataset[offset:(offset + BATCH_SIZE), :, :, :]\n",
    "    batch_data_X2 = train_X2_dataset[offset:(offset + BATCH_SIZE), :, :, :]\n",
    "    batch_labels = train_labels[offset:(offset + BATCH_SIZE), :]\n",
    "    feed_dict = {tf_train_X1_dataset : batch_data_X1, tf_train_X2_dataset : batch_data_X2, \\\n",
    "                 tf_train_labels : batch_labels}\n",
    "    _, _loss, predictions = session.run(\n",
    "      [optimizer, loss, train_prediction], feed_dict=feed_dict)\n",
    "    \n",
    "    if np.isnan(_loss):\n",
    "        print('Model diverged with loss = NaN')\n",
    "        quit()\n",
    "        \n",
    "    #Plot variables\n",
    "    if (step % P_FREQ == 0):\n",
    "      losses.append(_loss)\n",
    "      hey= valid_prediction.eval()\n",
    "      accuracies.append(accuracy(valid_prediction.eval(), valid_labels)[0])\n",
    "    \n",
    "    if (step % 50 == 0):\n",
    "      print('Minibatch loss at step {} {}'.format(step, _loss))\n",
    "      a = accuracy(predictions, batch_labels)\n",
    "      print('Minibatch accuracy: {} false positives: {} false negatives: {}'.format(a[0], a[1], a[2] ) )\n",
    "      a = accuracy(valid_prediction.eval(), valid_labels)\n",
    "      print('Validation accuracy: {} false positives: {} false negatives: {}'.format(a[0], a[1], a[2] ) )\n",
    "#print('Test accuracy: %.1f%%' % accuracy(test_prediction.eval(), test_labels))\n",
    "\n",
    "# Show the results.\n",
    "fig, (ax1, ax2, ax3) = plt.subplots(1, 3)\n",
    "plt.subplots_adjust(wspace=.8)\n",
    "fig.set_size_inches(10, 4)\n",
    "ax1.plot(range(0, NUM_STEPS, P_FREQ), losses)\n",
    "ax1.set_ylabel(\"Loss\")\n",
    "ax1.set_xlabel(\"Training steps\")\n",
    "ax2.plot(range(0, NUM_STEPS, P_FREQ), accuracies)\n",
    "ax2.set_ylabel(\"Validation Accuracy [%]\")\n",
    "ax2.set_xlabel(\"Training steps\")\n",
    "plt.show()\n"
   ]
  },
  {
   "cell_type": "code",
   "execution_count": null,
   "metadata": {},
   "outputs": [],
   "source": [
    "print(valid_labels.shape)"
   ]
  },
  {
   "cell_type": "code",
   "execution_count": 124,
   "metadata": {},
   "outputs": [
    {
     "name": "stdout",
     "output_type": "stream",
     "text": [
      "(128,)\n"
     ]
    }
   ],
   "source": [
    "print(predictions.shape)"
   ]
  },
  {
   "cell_type": "code",
   "execution_count": 125,
   "metadata": {},
   "outputs": [
    {
     "name": "stdout",
     "output_type": "stream",
     "text": [
      "[ 6.11904621  7.43290091  7.31785154 ...,  9.63284588  7.26450729\n",
      "  4.35797882]\n"
     ]
    }
   ],
   "source": [
    "print(hey)"
   ]
  },
  {
   "cell_type": "code",
   "execution_count": 126,
   "metadata": {},
   "outputs": [
    {
     "name": "stdout",
     "output_type": "stream",
     "text": [
      "[ 0.  0.  0. ...,  0.  0.  1.]\n"
     ]
    }
   ],
   "source": [
    "a = hey < 5.0\n",
    "print(a.astype(np.float32))"
   ]
  },
  {
   "cell_type": "code",
   "execution_count": 161,
   "metadata": {},
   "outputs": [
    {
     "name": "stdout",
     "output_type": "stream",
     "text": [
      "[ 1.  1.  1. ...,  1.  0.  0.]\n",
      "[[ 1.]\n",
      " [ 1.]\n",
      " [ 1.]\n",
      " ..., \n",
      " [ 1.]\n",
      " [ 0.]\n",
      " [ 0.]]\n"
     ]
    }
   ],
   "source": [
    "print(_valid_labels)\n",
    "print(valid_labels)"
   ]
  },
  {
   "cell_type": "code",
   "execution_count": 130,
   "metadata": {},
   "outputs": [
    {
     "name": "stdout",
     "output_type": "stream",
     "text": [
      "0.0\n",
      "[ 1.]\n"
     ]
    }
   ],
   "source": [
    "print(a[23].astype(np.float32))\n",
    "print(valid_labels[23])"
   ]
  },
  {
   "cell_type": "code",
   "execution_count": 199,
   "metadata": {},
   "outputs": [
    {
     "name": "stdout",
     "output_type": "stream",
     "text": [
      "5906.37\n",
      "[ 1.]\n",
      "0.0\n",
      "(5510,)\n",
      "(5510, 1)\n",
      "(5510,)\n",
      "(5510,)\n",
      "(46.678765880217789, 12, 122)\n",
      " 46.6787658802 12 122\n"
     ]
    }
   ],
   "source": [
    "def accuracy_dbg(predictions, labels, print_nr = 0):\n",
    "    aux = predictions < MARGIN\n",
    "    equal = np.equal(aux[:] , labels[:,0])\n",
    "    print(predictions[print_nr])\n",
    "    print(labels[print_nr])\n",
    "    print(aux[print_nr].astype(np.float32))\n",
    "    print(aux.shape)\n",
    "    print(labels.shape)\n",
    "    print(equal.shape)\n",
    "    print(predictions.shape)\n",
    "    acc = (100.0 * np.sum(equal.astype(np.float32))\n",
    "          / predictions.shape[0])\n",
    "    false_pos = 12\n",
    "    false_neg = 122\n",
    "    return acc, false_pos, false_neg\n",
    "a = accuracy_dbg(hey, valid_labels, 24)\n",
    "print(a)\n",
    "print(\" {} {} {}\".format(a[0], a[1], a[2]))"
   ]
  },
  {
   "cell_type": "code",
   "execution_count": null,
   "metadata": {},
   "outputs": [],
   "source": []
  }
 ],
 "metadata": {
  "kernelspec": {
   "display_name": "Python 2",
   "language": "python",
   "name": "python2"
  },
  "language_info": {
   "codemirror_mode": {
    "name": "ipython",
    "version": 2
   },
   "file_extension": ".py",
   "mimetype": "text/x-python",
   "name": "python",
   "nbconvert_exporter": "python",
   "pygments_lexer": "ipython2",
   "version": "2.7.12"
  }
 },
 "nbformat": 4,
 "nbformat_minor": 2
}
