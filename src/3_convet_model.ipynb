{
 "cells": [
  {
   "cell_type": "markdown",
   "metadata": {},
   "source": [
    "# Convnet Model and Training\n",
    "\n",
    "This aim of notebook is to define the siamese model that will be used for the Humpback Whale challenge. It will also run the model to trainin it agains our previously generated training and validation dataset and also create the results agains a test dataset."
   ]
  },
  {
   "cell_type": "markdown",
   "metadata": {},
   "source": [
    "## 0. Module Imports "
   ]
  },
  {
   "cell_type": "code",
   "execution_count": 1,
   "metadata": {},
   "outputs": [],
   "source": [
    "import numpy as np\n",
    "from __future__ import print_function\n",
    "import numpy as np\n",
    "import tensorflow as tf\n",
    "from six.moves import cPickle as pickle\n",
    "from six.moves import range\n",
    "import matplotlib.pyplot as plt"
   ]
  },
  {
   "cell_type": "markdown",
   "metadata": {},
   "source": [
    "## 1. Load Training, Validation and Test datasets"
   ]
  },
  {
   "cell_type": "code",
   "execution_count": 2,
   "metadata": {},
   "outputs": [
    {
     "name": "stdout",
     "output_type": "stream",
     "text": [
      "Training set (31218, 44, 100) (31218, 44, 100) (31218,)\n",
      "Validation set (5510, 44, 100) (5510, 44, 100) (5510,)\n"
     ]
    }
   ],
   "source": [
    "pickle_file = '../data/Siamese_dataset.pickle'\n",
    "\n",
    "with open(pickle_file, 'rb') as f:\n",
    "    save = pickle.load(f)\n",
    "    train_X1_dataset = save['train_X1_dataset']\n",
    "    train_X2_dataset = save['train_X2_dataset']\n",
    "    train_labels = save['train_labels']\n",
    "    valid_X1_dataset = save['valid_X1_dataset']\n",
    "    valid_X2_dataset = save['valid_X2_dataset']\n",
    "    valid_labels = save['valid_labels']\n",
    "    del save  # hint to help gc free up memory\n",
    "    print('Training set', train_X1_dataset.shape, train_X2_dataset.shape, train_labels.shape)\n",
    "    print('Validation set', valid_X1_dataset.shape, valid_X2_dataset.shape, valid_labels.shape)\n",
    "    train_labels = np.ones(train_labels.shape,dtype=float) - train_labels\n",
    "    valid_labels = np.ones(valid_labels.shape,dtype=float) - valid_labels"
   ]
  },
  {
   "cell_type": "markdown",
   "metadata": {},
   "source": [
    "##  2. Declaration of Global Constants\n",
    "Now we declare all the global constants in hee in orde to have them centralized.\n",
    "This way we can easyly tune our model."
   ]
  },
  {
   "cell_type": "code",
   "execution_count": 37,
   "metadata": {},
   "outputs": [],
   "source": [
    "## Image parameters\n",
    "NUM_CHANNELS = 1\n",
    "IMAGE_HEIGHT = train_X1_dataset.shape[1]\n",
    "IMAGE_WIDHT = train_X1_dataset.shape[2]\n",
    "\n",
    "#Convnet parameters\n",
    "BETA = 0.005\n",
    "PATCH_1 = 7\n",
    "PATCH_2 = 6\n",
    "DEPTH_1 = 15\n",
    "DEPTH_2 = 45\n",
    "NUM_HIDEN = 1024\n",
    "NUM_LABELS = 1\n",
    "MARGIN = 2.0\n",
    "\n",
    "\n",
    "#Training parameters\n",
    "BATCH_SIZE = 128\n",
    "NUM_STEPS = 1501\n",
    "THRESHOLD = 9.5"
   ]
  },
  {
   "cell_type": "markdown",
   "metadata": {},
   "source": [
    "## 3. Reformat datasets into a TensorFlow-friendly shape:\n",
    "\n",
    "- convolutions need the image data formatted as a cube (width by height by #channels)\n",
    "- labels as float 1-hot encodings.\n",
    "\n"
   ]
  },
  {
   "cell_type": "code",
   "execution_count": 4,
   "metadata": {},
   "outputs": [
    {
     "name": "stdout",
     "output_type": "stream",
     "text": [
      "Training set (31218, 44, 100, 1) (31218, 44, 100, 1) (31218, 1)\n",
      "Validation set (5510, 44, 100, 1) (5510, 44, 100, 1) (5510, 1)\n"
     ]
    }
   ],
   "source": [
    "num_labels = 1\n",
    "\n",
    "def reformat(dataset1, dataset2, labels):\n",
    "  dataset1 = dataset1.reshape(\n",
    "    (-1, IMAGE_HEIGHT, IMAGE_WIDHT, NUM_CHANNELS)).astype(np.float32)\n",
    "  dataset2 = dataset2.reshape(\n",
    "    (-1, IMAGE_HEIGHT, IMAGE_WIDHT, NUM_CHANNELS)).astype(np.float32)\n",
    "  labels = (np.arange(num_labels) == labels[:,None]).astype(np.float32)\n",
    "  return dataset1, dataset2, labels\n",
    "train_X1_dataset, train_X2_dataset, train_labels = reformat(train_X1_dataset, train_X2_dataset, train_labels)\n",
    "valid_X1_dataset, valid_X2_dataset, valid_labels = reformat(valid_X1_dataset, valid_X2_dataset, valid_labels)\n",
    "print('Training set', train_X1_dataset.shape, train_X2_dataset.shape, train_labels.shape)\n",
    "print('Validation set', valid_X1_dataset.shape, valid_X2_dataset.shape, valid_labels.shape)"
   ]
  },
  {
   "cell_type": "markdown",
   "metadata": {},
   "source": [
    "## 4. Definition of auxiliar functions"
   ]
  },
  {
   "cell_type": "markdown",
   "metadata": {},
   "source": [
    "### 4.1. Accuracy computation"
   ]
  },
  {
   "cell_type": "code",
   "execution_count": 71,
   "metadata": {},
   "outputs": [],
   "source": [
    "def accuracy(distance, labels):\n",
    "    positives = np.where(labels[:, 0] > 0)\n",
    "    negatives = np.where(labels[:, 0] == 0)\n",
    "    mean_p_distance = np.mean(distance[positives[0]])\n",
    "    mean_n_distance = np.mean(distance[negatives[0]])\n",
    "    aux = distance < (mean_p_distance + mean_n_distance)/2\n",
    "    equal = np.equal(aux[:] , labels[:, 0])\n",
    "    great = np.greater(aux[:] , labels[:, 0])\n",
    "    less = np.less(aux[:] , labels[:, 0])\n",
    "    acc = (100.0 * np.sum(equal.astype(np.float32))\n",
    "          / distance.shape[0])\n",
    "    false_pos = np.sum(great.astype(np.float32))\n",
    "    false_neg = np.sum(less.astype(np.float32))\n",
    "    return acc, false_pos, false_neg\n",
    "\n",
    "def print_means(distance, labels):\n",
    "    print(distance.shape)\n",
    "    print(labels.shape)\n",
    "    positives = np.where(labels[:, 0] > 0)\n",
    "    negatives = np.where(labels[:, 0] == 0)\n",
    "    print(positives[0].shape)\n",
    "    print(negatives[0].shape)\n",
    "    mean_p_distance = np.mean(distance[positives[0]])\n",
    "    mean_n_distance = np.mean(distance[negatives[0]])\n",
    "    \n",
    "    \n",
    "    plt.figure(figsize=(10, 4))\n",
    "\n",
    "    # the histogram of the data\n",
    "    n, bins, patches = plt.hist(distance[positives[0]], 100, normed=1, facecolor='green', alpha=0.2)\n",
    "    n, bins, patches = plt.hist(distance[negatives[0]], 100, normed=1, facecolor='red', alpha=0.2)\n",
    "\n",
    "    plt.xlabel('Aspect ratio')\n",
    "    plt.ylabel('Probability')\n",
    "    plt.title('Histogram of Aspect Ratios')\n",
    "    plt.axis([0, 1, 0, 1])\n",
    "    plt.grid(True)\n",
    "    plt.show()\n",
    "    \n",
    "    print('Mean negative distance ' +  str(mean_n_distance) + ' mean positive distance ' + str(mean_p_distance))"
   ]
  },
  {
   "cell_type": "markdown",
   "metadata": {},
   "source": [
    "## 5. Network declaration\n",
    "We will use tensorflow"
   ]
  },
  {
   "cell_type": "code",
   "execution_count": null,
   "metadata": {},
   "outputs": [
    {
     "name": "stdout",
     "output_type": "stream",
     "text": [
      "[128, 11, 25, 45]\n",
      "[128, 11, 25, 45]\n",
      "[5510, 11, 25, 45]\n",
      "[5510, 11, 25, 45]\n",
      "(128,)\n"
     ]
    }
   ],
   "source": [
    "\n",
    "siamese_model = tf.Graph()\n",
    "\n",
    "with siamese_model.as_default():\n",
    "\n",
    "  # Input data.\n",
    "    tf_train_X1_dataset = tf.placeholder(\\\n",
    "          tf.float32, shape=(BATCH_SIZE, IMAGE_HEIGHT, IMAGE_WIDHT, NUM_CHANNELS))\n",
    "    tf_train_X2_dataset = tf.placeholder(\\\n",
    "          tf.float32, shape=(BATCH_SIZE, IMAGE_HEIGHT, IMAGE_WIDHT, NUM_CHANNELS))\n",
    "    tf_train_labels = tf.placeholder(tf.float32, shape=(BATCH_SIZE, NUM_LABELS))\n",
    "    tf_valid_X1_dataset = tf.constant(valid_X1_dataset)\n",
    "    tf_valid_X2_dataset = tf.constant(valid_X2_dataset)\n",
    "    #tf_test_dataset = tf.constant(test_dataset)\n",
    "  \n",
    "    # Variables.\n",
    "    weights = {\n",
    "      'layer1': tf.Variable(tf.truncated_normal(\\\n",
    "              [PATCH_1, PATCH_1, NUM_CHANNELS, DEPTH_1], stddev=0.1)),\n",
    "      'layer2': tf.Variable(tf.truncated_normal(\\\n",
    "              [PATCH_2, PATCH_2, DEPTH_1, DEPTH_2], stddev=0.1)),\n",
    "      'layer3': tf.Variable(tf.truncated_normal(\\\n",
    "              [IMAGE_HEIGHT // 4 * (IMAGE_WIDHT // 4 ) * DEPTH_2, NUM_HIDEN], stddev=0.1)),\n",
    "      'layer4': tf.Variable(tf.truncated_normal(\\\n",
    "              [NUM_HIDEN, 10], stddev=0.1))\n",
    "      }\n",
    "    biases = {\n",
    "        'layer1' : tf.Variable(tf.zeros([DEPTH_1])),\n",
    "        'layer2' : tf.Variable(tf.constant(1.0, shape=[DEPTH_2])),\n",
    "        'layer3' : tf.Variable(tf.constant(1.0, shape=[NUM_HIDEN])),\n",
    "        'layer4' : tf.Variable(tf.constant(1.0, shape=[1]))\n",
    "        }\n",
    "  \n",
    "  # Model.\n",
    "    def model(data):\n",
    "        conv = tf.nn.conv2d(data, weights['layer1'], [1, 2, 2, 1], padding='SAME')\n",
    "        hidden = tf.nn.relu(conv + biases['layer1'])\n",
    "        conv = tf.nn.conv2d(hidden, weights['layer2'], [1, 2, 2, 1], padding='SAME')\n",
    "        hidden = tf.nn.relu(conv + biases['layer2'])\n",
    "        shape = hidden.get_shape().as_list()\n",
    "        print(shape)\n",
    "        reshape = tf.reshape(hidden, [shape[0], shape[1] * shape[2] * shape[3]])\n",
    "        hidden = tf.nn.relu(tf.matmul(reshape, weights['layer3']) + biases['layer3'])\n",
    "        return tf.matmul(hidden, weights['layer4']) + biases['layer4']\n",
    "    \n",
    "    \n",
    "  # Training computation.\n",
    "    with tf.variable_scope(\"siamese\") as scope:\n",
    "        logits1 = model(tf_train_X1_dataset)\n",
    "        scope.reuse_variables()\n",
    "        logits2 = model(tf_train_X2_dataset)\n",
    "        \n",
    "    with tf.variable_scope(\"siamese_val\") as scope:\n",
    "        val_logits1 = model(tf_valid_X1_dataset)\n",
    "        scope.reuse_variables()\n",
    "        val_logits2 = model(tf_valid_X2_dataset)\n",
    "        \n",
    "    def loss(y):\n",
    "        labels_t = y\n",
    "        labels_f = tf.subtract(1.0, y, name=\"1-yi\")          # labels_ = !labels;\n",
    "        eucd2 = tf.pow(tf.subtract(logits1, logits2), 2)\n",
    "        eucd2 = tf.reduce_sum(eucd2, 1)\n",
    "        eucd = tf.sqrt(eucd2+1e-6, name=\"eucd\")\n",
    "        C = tf.constant(MARGIN, name=\"C\")\n",
    "        # yi*||CNN(p1i)-CNN(p2i)||^2 + (1-yi)*max(0, C-||CNN(p1i)-CNN(p2i)||^2)\n",
    "        pos = tf.multiply(labels_t, eucd2, name=\"yi_x_eucd2\")\n",
    "        # neg = tf.multiply(labels_f, tf.subtract(0.0,eucd2), name=\"yi_x_eucd2\")\n",
    "        # neg = tf.multiply(labels_f, tf.maximum(0.0, tf.subtract(C,eucd2)), name=\"Nyi_x_C-eucd_xx_2\")\n",
    "        neg = tf.multiply(labels_f, tf.pow(tf.maximum(tf.subtract(C, eucd), 0), 2), name=\"Nyi_x_C-eucd_xx_2\")\n",
    "        losses = tf.add(pos, neg, name=\"losses\")\n",
    "        loss = tf.reduce_mean(losses, name=\"loss\")\n",
    "        return loss\n",
    "    \n",
    "    def loss_paper(y):\n",
    "        labels_i = y\n",
    "        labels_g = tf.subtract(1.0, y, name=\"1-yi\")          # labels_ = !labels;\n",
    "        ew2 = tf.pow(tf.subtract(logits1, logits2), 2)\n",
    "        ew2 = tf.reduce_sum(ew2, 1)\n",
    "        ew = tf.sqrt(ew2+1e-6, name=\"ew\")\n",
    "        Q = tf.constant(MARGIN, name=\"Q\")\n",
    "        # yi*||CNN(p1i)-CNN(p2i)||^2 + (1-yi)*max(0, C-||CNN(p1i)-CNN(p2i)||^2)\n",
    "        pos = labels_g * ew2 * 2 / Q\n",
    "        # neg = tf.multiply(labels_f, tf.subtract(0.0,eucd2), name=\"yi_x_eucd2\")\n",
    "        # neg = tf.multiply(labels_f, tf.maximum(0.0, tf.subtract(C,eucd2)), name=\"Nyi_x_C-eucd_xx_2\")\n",
    "        neg = labels_i *2 * Q * tf.exp( - 2.77 * ew / Q) \n",
    "        losses = tf.add(pos, neg, name=\"losses\")\n",
    "        loss = tf.reduce_mean(losses, name=\"loss\")\n",
    "        return loss\n",
    "    \n",
    "        \n",
    "    loss = loss_paper(tf_train_labels)\n",
    "    \n",
    "  # Optimizer.\n",
    "    optimizer = tf.train.AdamOptimizer().minimize(loss)\n",
    "  \n",
    "  \n",
    "  # Predictions for the training, validation, and test data.\n",
    "    #train_prediction = tf.reduce_sum(tf.pow(tf.subtract(logits1, logits2), 2),1)\n",
    "    #valid_prediction = tf.reduce_sum(tf.pow(tf.subtract(val_logits1, val_logits2), 2),1)\n",
    "    #test_prediction = tf.nn.softmax(model(tf_test_dataset))\n",
    "\n",
    "    num = tf.reduce_sum(logits1 * logits2, axis = 1)\n",
    "    print(num.shape)\n",
    "    den = tf.sqrt(tf.reduce_sum(tf.pow(logits1, 2),1)) * tf.sqrt(tf.reduce_sum(tf.pow(logits2, 2),1))\n",
    "    train_prediction = num/den\n",
    "    num = tf.reduce_sum(val_logits1 * val_logits2, axis = 1)\n",
    "    den = tf.sqrt(tf.reduce_sum(tf.pow(val_logits1, 2),1)) * tf.sqrt(tf.reduce_sum(tf.pow(val_logits2, 2),1))\n",
    "    valid_prediction = num/den"
   ]
  },
  {
   "cell_type": "markdown",
   "metadata": {},
   "source": [
    "## 6. Model training"
   ]
  },
  {
   "cell_type": "code",
   "execution_count": null,
   "metadata": {},
   "outputs": [
    {
     "name": "stdout",
     "output_type": "stream",
     "text": [
      "Initialized\n",
      "Minibatch loss at step 0 91.703666687\n",
      "Minibatch accuracy: 36.71875 false positives: 34.0 false negatives: 47.0\n",
      "Validation accuracy: 34.0834845735 false positives: 1338.0 false negatives: 2294.0\n",
      "(5510,)\n",
      "(5510, 1)\n",
      "(2582,)\n",
      "(2928,)\n"
     ]
    },
    {
     "data": {
      "image/png": "[encoded data removed]",
      "text/plain": [
       "<matplotlib.figure.Figure at 0x7f605af23bd0>"
      ]
     },
     "metadata": {},
     "output_type": "display_data"
    },
    {
     "name": "stdout",
     "output_type": "stream",
     "text": [
      "Mean negative distance 0.982931 mean positive distance 0.994223\n",
      "Minibatch loss at step 50 7.2212805748\n",
      "Minibatch accuracy: 45.3125 false positives: 34.0 false negatives: 36.0\n",
      "Validation accuracy: 45.9528130672 false positives: 1314.0 false negatives: 1664.0\n",
      "(5510,)\n",
      "(5510, 1)\n",
      "(2582,)\n",
      "(2928,)\n"
     ]
    },
    {
     "data": {
      "image/png": "[encoded data removed]",
      "text/plain": [
       "<matplotlib.figure.Figure at 0x7f605ae16a10>"
      ]
     },
     "metadata": {},
     "output_type": "display_data"
    },
    {
     "name": "stdout",
     "output_type": "stream",
     "text": [
      "Mean negative distance 0.999782 mean positive distance 0.999805\n",
      "Minibatch loss at step 100 3.04331684113\n",
      "Minibatch accuracy: 35.15625 false positives: 37.0 false negatives: 46.0\n",
      "Validation accuracy: 47.277676951 false positives: 1272.0 false negatives: 1633.0\n",
      "(5510,)\n",
      "(5510, 1)\n",
      "(2582,)\n",
      "(2928,)\n"
     ]
    },
    {
     "data": {
      "image/png": "[encoded data removed]",
      "text/plain": [
       "<matplotlib.figure.Figure at 0x7f605b3d6e10>"
      ]
     },
     "metadata": {},
     "output_type": "display_data"
    },
    {
     "name": "stdout",
     "output_type": "stream",
     "text": [
      "Mean negative distance 0.999858 mean positive distance 0.999869\n",
      "Minibatch loss at step 150 2.52400445938\n",
      "Minibatch accuracy: 44.53125 false positives: 32.0 false negatives: 39.0\n",
      "Validation accuracy: 48.3666061706 false positives: 1231.0 false negatives: 1614.0\n",
      "(5510,)\n",
      "(5510, 1)\n",
      "(2582,)\n",
      "(2928,)\n"
     ]
    },
    {
     "data": {
      "image/png": "[encoded data removed]",
      "text/plain": [
       "<matplotlib.figure.Figure at 0x7f605acd13d0>"
      ]
     },
     "metadata": {},
     "output_type": "display_data"
    },
    {
     "name": "stdout",
     "output_type": "stream",
     "text": [
      "Mean negative distance 0.999881 mean positive distance 0.999891\n",
      "Minibatch loss at step 200 1.98825383186\n",
      "Minibatch accuracy: 49.21875 false positives: 29.0 false negatives: 36.0\n",
      "Validation accuracy: 47.22323049 false positives: 1258.0 false negatives: 1650.0\n",
      "(5510,)\n",
      "(5510, 1)\n",
      "(2582,)\n",
      "(2928,)\n"
     ]
    },
    {
     "data": {
      "image/png": "[encoded data removed]",
      "text/plain": [
       "<matplotlib.figure.Figure at 0x7f61180ded50>"
      ]
     },
     "metadata": {},
     "output_type": "display_data"
    },
    {
     "name": "stdout",
     "output_type": "stream",
     "text": [
      "Mean negative distance 0.999901 mean positive distance 0.999909\n"
     ]
    }
   ],
   "source": [
    "#Plots\n",
    "P_FREQ = 50\n",
    "losses = []\n",
    "accuracies = []\n",
    "rates = []\n",
    "\n",
    "with tf.Session(graph=siamese_model) as session:\n",
    "  tf.global_variables_initializer().run()\n",
    "  print('Initialized')\n",
    "  for step in range(NUM_STEPS):\n",
    "    offset = (step * BATCH_SIZE) % (train_labels.shape[0] - BATCH_SIZE)\n",
    "    batch_data_X1 = train_X1_dataset[offset:(offset + BATCH_SIZE), :, :, :]\n",
    "    batch_data_X2 = train_X2_dataset[offset:(offset + BATCH_SIZE), :, :, :]\n",
    "    batch_labels = train_labels[offset:(offset + BATCH_SIZE), :]\n",
    "    feed_dict = {tf_train_X1_dataset : batch_data_X1, tf_train_X2_dataset : batch_data_X2, \\\n",
    "                 tf_train_labels : batch_labels}\n",
    "    _, _loss, predictions = session.run(\n",
    "      [optimizer, loss, train_prediction], feed_dict=feed_dict)\n",
    "    \n",
    "    if np.isnan(_loss):\n",
    "        print('Model diverged with loss = NaN')\n",
    "        quit()\n",
    "        \n",
    "    #Plot variables\n",
    "    if (step % P_FREQ == 0):\n",
    "      losses.append(_loss)\n",
    "      distances = valid_prediction.eval()\n",
    "      acc, fp, fn = accuracy(distances, valid_labels)\n",
    "      accuracies.append(acc)\n",
    "      rates.append(float(fp/fn))\n",
    "    \n",
    "    if (step % 50 == 0):\n",
    "      print('Minibatch loss at step {} {}'.format(step, _loss))\n",
    "      a = accuracy(predictions, batch_labels)\n",
    "      print('Minibatch accuracy: {} false positives: {} false negatives: {}'.format(a[0], a[1], a[2] ) )\n",
    "      a = accuracy(valid_prediction.eval(), valid_labels)\n",
    "      print('Validation accuracy: {} false positives: {} false negatives: {}'.format(a[0], a[1], a[2] ) )\n",
    "      print_means(valid_prediction.eval(), valid_labels)\n",
    "#print('Test accuracy: %.1f%%' % accuracy(test_prediction.eval(), test_labels))\n",
    "\n",
    "# Show the results.\n",
    "fig, (ax1, ax2, ax3) = plt.subplots(1, 3)\n",
    "plt.subplots_adjust(wspace=.8)\n",
    "fig.set_size_inches(10, 4)\n",
    "ax1.plot(range(0, NUM_STEPS, P_FREQ), losses)\n",
    "ax1.set_ylabel(\"Loss\")\n",
    "ax1.set_xlabel(\"Training steps\")\n",
    "ax2.plot(range(0, NUM_STEPS, P_FREQ), accuracies)\n",
    "ax2.set_ylabel(\"Validation Accuracy [%]\")\n",
    "ax2.set_xlabel(\"Training steps\")\n",
    "ax3.plot(range(0, NUM_STEPS, P_FREQ), rates)\n",
    "ax3.set_ylabel(\"FP / FN [%]\")\n",
    "ax3.set_xlabel(\"Training steps\")\n",
    "plt.show()\n"
   ]
  },
  {
   "cell_type": "code",
   "execution_count": 27,
   "metadata": {},
   "outputs": [
    {
     "name": "stdout",
     "output_type": "stream",
     "text": [
      "(5510, 1)\n"
     ]
    }
   ],
   "source": [
    "print(valid_labels.shape)"
   ]
  },
  {
   "cell_type": "code",
   "execution_count": 9,
   "metadata": {},
   "outputs": [
    {
     "name": "stdout",
     "output_type": "stream",
     "text": [
      "(128,)\n"
     ]
    }
   ],
   "source": [
    "print(predictions.shape)"
   ]
  },
  {
   "cell_type": "code",
   "execution_count": 10,
   "metadata": {},
   "outputs": [
    {
     "ename": "NameError",
     "evalue": "name 'hey' is not defined",
     "output_type": "error",
     "traceback": [
      "\u001b[0;31m\u001b[0m",
      "\u001b[0;31mNameError\u001b[0mTraceback (most recent call last)",
      "\u001b[0;32m<ipython-input-10-618e28676a60>\u001b[0m in \u001b[0;36m<module>\u001b[0;34m()\u001b[0m\n\u001b[0;32m----> 1\u001b[0;31m \u001b[0;32mprint\u001b[0m\u001b[0;34m(\u001b[0m\u001b[0mhey\u001b[0m\u001b[0;34m)\u001b[0m\u001b[0;34m\u001b[0m\u001b[0m\n\u001b[0m",
      "\u001b[0;31mNameError\u001b[0m: name 'hey' is not defined"
     ]
    }
   ],
   "source": [
    "print(hey)"
   ]
  },
  {
   "cell_type": "code",
   "execution_count": null,
   "metadata": {},
   "outputs": [],
   "source": [
    "a = hey < 5.0\n",
    "print(a.astype(np.float32))"
   ]
  },
  {
   "cell_type": "code",
   "execution_count": null,
   "metadata": {},
   "outputs": [],
   "source": [
    "print(_valid_labels)\n",
    "print(valid_labels)"
   ]
  },
  {
   "cell_type": "code",
   "execution_count": null,
   "metadata": {},
   "outputs": [],
   "source": [
    "print(a[23].astype(np.float32))\n",
    "print(valid_labels[23])"
   ]
  },
  {
   "cell_type": "code",
   "execution_count": null,
   "metadata": {},
   "outputs": [],
   "source": [
    "def accuracy_dbg(predictions, labels, print_nr = 0):\n",
    "    aux = predictions < MARGIN\n",
    "    equal = np.equal(aux[:] , labels[:,0])\n",
    "    print(predictions[print_nr])\n",
    "    print(labels[print_nr])\n",
    "    print(aux[print_nr].astype(np.float32))\n",
    "    print(aux.shape)\n",
    "    print(labels.shape)\n",
    "    print(equal.shape)\n",
    "    print(predictions.shape)\n",
    "    acc = (100.0 * np.sum(equal.astype(np.float32))\n",
    "          / predictions.shape[0])\n",
    "    false_pos = 12\n",
    "    false_neg = 122\n",
    "    return acc, false_pos, false_neg\n",
    "a = accuracy_dbg(hey, valid_labels, 24)\n",
    "print(a)\n",
    "print(\" {} {} {}\".format(a[0], a[1], a[2]))"
   ]
  },
  {
   "cell_type": "code",
   "execution_count": null,
   "metadata": {},
   "outputs": [],
   "source": [
    "a = np.array([0, 1, 1, 1, 1, 0, 0, 0])\n",
    "b = np.where(a == 0)\n",
    "c = a[b]\n",
    "print(c)"
   ]
  },
  {
   "cell_type": "code",
   "execution_count": 64,
   "metadata": {},
   "outputs": [
    {
     "name": "stdout",
     "output_type": "stream",
     "text": [
      "[[ 2.  2.]\n",
      " [ 2.  2.]\n",
      " [ 2.  2.]\n",
      " [ 2.  2.]\n",
      " [ 2.  2.]\n",
      " [ 2.  2.]\n",
      " [ 2.  2.]\n",
      " [ 2.  2.]\n",
      " [ 2.  2.]\n",
      " [ 2.  2.]]\n",
      "[[ 3.  3.]\n",
      " [ 3.  3.]\n",
      " [ 3.  3.]\n",
      " [ 3.  3.]\n",
      " [ 3.  3.]\n",
      " [ 3.  3.]\n",
      " [ 3.  3.]\n",
      " [ 3.  3.]\n",
      " [ 3.  3.]\n",
      " [ 3.  3.]]\n",
      "[[ 6.  6.]\n",
      " [ 6.  6.]\n",
      " [ 6.  6.]\n",
      " [ 6.  6.]\n",
      " [ 6.  6.]\n",
      " [ 6.  6.]\n",
      " [ 6.  6.]\n",
      " [ 6.  6.]\n",
      " [ 6.  6.]\n",
      " [ 6.  6.]]\n"
     ]
    }
   ],
   "source": [
    "a = np.ones([10,2]) * 2\n",
    "b = np.ones([10,2]) * 3\n",
    "print (a)\n",
    "print(b)\n",
    "\n",
    "c = a *b\n",
    " \n",
    "print(c)"
   ]
  },
  {
   "cell_type": "code",
   "execution_count": null,
   "metadata": {},
   "outputs": [],
   "source": []
  }
 ],
 "metadata": {
  "kernelspec": {
   "display_name": "Python 2",
   "language": "python",
   "name": "python2"
  },
  "language_info": {
   "codemirror_mode": {
    "name": "ipython",
    "version": 2
   },
   "file_extension": ".py",
   "mimetype": "text/x-python",
   "name": "python",
   "nbconvert_exporter": "python",
   "pygments_lexer": "ipython2",
   "version": "2.7.12"
  }
 },
 "nbformat": 4,
 "nbformat_minor": 2
}
