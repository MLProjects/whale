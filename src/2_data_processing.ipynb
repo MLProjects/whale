{
 "cells": [
  {
   "cell_type": "markdown",
   "metadata": {},
   "source": [
    "# 2 Data processing\n",
    "In this section of the notebook we will get the original training dataset provieded by the Happy Wale and we will transform, and reshape it to our needs.\n",
    "Steps that will be performed in this script\n",
    "- Definition of usefull functions\n",
    "-- Data organization\n",
    "-- Image augmentation\n",
    "-- Image RGB to grey scale transformation\n",
    "-- Image scaling\n",
    "-- Pickle data\n",
    "\n",
    "We will start with the usual include section:"
   ]
  },
  {
   "cell_type": "code",
   "execution_count": null,
   "metadata": {},
   "outputs": [],
   "source": [
    "#import math\n",
    "#from collections import Counter\n",
    "\n",
    "#import matplotlib.pyplot as plt\n",
    "#import pandas as pd\n",
    "#import numpy as np\n",
    "#from PIL import Image\n",
    "#import os\n",
    "#import sys\n",
    "#import shutil\n",
    "#import random\n",
    "#import imageio\n",
    "\n",
    "#from six.moves import cPickle as pickle\n",
    "\n",
    "#from tqdm import tqdm\n",
    "\n",
    "%matplotlib inline"
   ]
  },
  {
   "cell_type": "markdown",
   "metadata": {},
   "source": [
    "# Definition of useful functions"
   ]
  },
  {
   "cell_type": "code",
   "execution_count": null,
   "metadata": {},
   "outputs": [],
   "source": [
    "def copy_files_to_dir(nfiles, source_dir, destination_dir, maximum=0):\n",
    "    \"\"\"\n",
    "    Description: copy a given set of files from a source directory to a destination\n",
    "    directory, optionally you can also set a maximum number of images to be copied\n",
    "    -> nfiles: list of files names\n",
    "    -> source_dir: path of the directory where the files will be copied from\n",
    "    -> destination_dir: path of the directory where the files will be copied\n",
    "    -> maximum: maximum number of files to be copied\n",
    "    \"\"\"\n",
    "    for index, nfile in enumerate(nfiles):\n",
    "            full_file_path = os.path.join(source_dir, nfile)\n",
    "            if (os.path.isfile(full_file_path)):\n",
    "                shutil.copy(full_file_path, destination_dir)\n",
    "            if (maximum != 0) and index >= maximum-1:\n",
    "                return\n",
    "            \n",
    "def copy_images_to_dir_expand(images, source_dir, destination_dir, maximum=0, minimum=0):\n",
    "    \"\"\"\n",
    "    Description: copy a given set of images from a source directory to a destination\n",
    "    directory, optionally you can also set a maximum number of images to be copied and\n",
    "    a minimum images to be copied. In case that the provided list of images is shorter than\n",
    "    the speficied minimum the images will be augmented.\n",
    "    -> images: list of files images\n",
    "    -> source_dir: path of the directory where the files will be copied from\n",
    "    -> destination_dir: path of the directory where the files will be copied\n",
    "    -> maximum: maximum number of files to be copied\n",
    "    -> minimum: minimum number of files to be copied\n",
    "    \"\"\"\n",
    "    copy_files_to_dir(images, source_dir, destination_dir, maximum)\n",
    "    if minimum != 0 and len(images) < minimum:\n",
    "        for index in range(1,minimum - len(images)):\n",
    "            image_ex = load_img(os.path.join(source_dir, random.choice(images)))\n",
    "            x = img_to_array(image_ex)\n",
    "            x = x.reshape((1,) + x.shape) \n",
    "            i = 0\n",
    "            for batch in datagen.flow(x, batch_size=1,\n",
    "                          save_to_dir=destination_dir, save_prefix='exp_', save_format='jpeg'):\n",
    "                break  # otherwise the generator would loop indefinitely\n",
    "                    \n",
    "def generate_file_structure(root_path, source_dir=None, maximum=0, minimum=0):\n",
    "    \"\"\"\n",
    "    Description: given a root path it generates a tree folder structure for all\n",
    "    the image ids provieded as input\n",
    "    -> root_path: list of files names\n",
    "    -> source_dir: path of the directory where the files will be copied from\n",
    "    include this path if you want to fill the generated tree with images (optional)\n",
    "    -> maximum: maximum number of files to be copied (optional)\n",
    "    -> minimum: minimum number of files to be copied (optional)\n",
    "    \"\"\"\n",
    "    progress = 0\n",
    "    print('Progress '+str(progress)+' %')\n",
    "    if not os.path.exists(root_path):\n",
    "        os.makedirs(root_path)\n",
    "    # Creating a folder for each whale id\n",
    "    #New folder names set\n",
    "    folder_ids = set(train_df['Id'].values.tolist())\n",
    "    for index, folder_id in enumerate(folder_ids):\n",
    "        new_path_folder = os.path.join(root_path, folder_id)\n",
    "        if not os.path.exists(new_path_folder):\n",
    "            os.makedirs(new_path_folder)\n",
    "        if source_dir is not None:\n",
    "            images = train_df[train_df['Id'] == folder_id]['Image'].values.tolist()\n",
    "            copy_images_to_dir_expand(images, source_dir, new_path_folder, maximum, minimum)\n",
    "        if(round(100*float(index)/float(len(folder_ids))) > progress):\n",
    "            print('Progress '+str(round(100*float(index)/float(len(folder_ids))))+' %')\n",
    "        progress = round(100*float(index)/float(len(folder_ids)))"
   ]
  }
 ],
 "metadata": {
  "kernelspec": {
   "display_name": "Python 2",
   "language": "python",
   "name": "python2"
  },
  "language_info": {
   "codemirror_mode": {
    "name": "ipython",
    "version": 2
   },
   "file_extension": ".py",
   "mimetype": "text/x-python",
   "name": "python",
   "nbconvert_exporter": "python",
   "pygments_lexer": "ipython2",
   "version": "2.7.12"
  }
 },
 "nbformat": 4,
 "nbformat_minor": 2
}
